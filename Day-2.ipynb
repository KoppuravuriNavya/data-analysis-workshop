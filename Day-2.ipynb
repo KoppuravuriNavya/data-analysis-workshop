{
 "cells": [
  {
   "cell_type": "markdown",
   "metadata": {},
   "source": [
    "# Navya \n",
    "## Mehziya\n",
    "### Silva\n",
    "#### dachi\n",
    "##### kvya\n",
    "###### oxcv\n"
   ]
  },
  {
   "cell_type": "markdown",
   "metadata": {},
   "source": [
    "- welcome to data analysis workshop"
   ]
  },
  {
   "cell_type": "code",
   "execution_count": 1,
   "metadata": {},
   "outputs": [
    {
     "ename": "NameError",
     "evalue": "name 'navya' is not defined",
     "output_type": "error",
     "traceback": [
      "\u001b[1;31m---------------------------------------------------------------------------\u001b[0m",
      "\u001b[1;31mNameError\u001b[0m                                 Traceback (most recent call last)",
      "\u001b[1;32m<ipython-input-1-32079f24a0c6>\u001b[0m in \u001b[0;36m<module>\u001b[1;34m\u001b[0m\n\u001b[1;32m----> 1\u001b[1;33m \u001b[1;33m-\u001b[0m \u001b[0mnavya\u001b[0m\u001b[1;33m\u001b[0m\u001b[1;33m\u001b[0m\u001b[0m\n\u001b[0m",
      "\u001b[1;31mNameError\u001b[0m: name 'navya' is not defined"
     ]
    }
   ],
   "source": [
    "- navya"
   ]
  },
  {
   "cell_type": "code",
   "execution_count": 2,
   "metadata": {},
   "outputs": [
    {
     "ename": "NameError",
     "evalue": "name 'silvamani' is not defined",
     "output_type": "error",
     "traceback": [
      "\u001b[1;31m---------------------------------------------------------------------------\u001b[0m",
      "\u001b[1;31mNameError\u001b[0m                                 Traceback (most recent call last)",
      "\u001b[1;32m<ipython-input-2-0d8be45f206a>\u001b[0m in \u001b[0;36m<module>\u001b[1;34m\u001b[0m\n\u001b[1;32m----> 1\u001b[1;33m \u001b[1;33m-\u001b[0m \u001b[0msilvamani\u001b[0m\u001b[1;33m\u001b[0m\u001b[1;33m\u001b[0m\u001b[0m\n\u001b[0m",
      "\u001b[1;31mNameError\u001b[0m: name 'silvamani' is not defined"
     ]
    }
   ],
   "source": [
    "- silvamani"
   ]
  },
  {
   "cell_type": "code",
   "execution_count": 3,
   "metadata": {},
   "outputs": [
    {
     "ename": "SyntaxError",
     "evalue": "invalid syntax (<ipython-input-3-8ba2b8f4177b>, line 1)",
     "output_type": "error",
     "traceback": [
      "\u001b[1;36m  File \u001b[1;32m\"<ipython-input-3-8ba2b8f4177b>\"\u001b[1;36m, line \u001b[1;32m1\u001b[0m\n\u001b[1;33m    - introdution to data\u001b[0m\n\u001b[1;37m                  ^\u001b[0m\n\u001b[1;31mSyntaxError\u001b[0m\u001b[1;31m:\u001b[0m invalid syntax\n"
     ]
    }
   ],
   "source": [
    "     - introdution to data"
   ]
  },
  {
   "cell_type": "markdown",
   "metadata": {},
   "source": [
    "- navya"
   ]
  },
  {
   "cell_type": "code",
   "execution_count": null,
   "metadata": {},
   "outputs": [],
   "source": []
  },
  {
   "cell_type": "code",
   "execution_count": 4,
   "metadata": {},
   "outputs": [
    {
     "ename": "NameError",
     "evalue": "name 'navya' is not defined",
     "output_type": "error",
     "traceback": [
      "\u001b[1;31m---------------------------------------------------------------------------\u001b[0m",
      "\u001b[1;31mNameError\u001b[0m                                 Traceback (most recent call last)",
      "\u001b[1;32m<ipython-input-4-32079f24a0c6>\u001b[0m in \u001b[0;36m<module>\u001b[1;34m\u001b[0m\n\u001b[1;32m----> 1\u001b[1;33m \u001b[1;33m-\u001b[0m \u001b[0mnavya\u001b[0m\u001b[1;33m\u001b[0m\u001b[1;33m\u001b[0m\u001b[0m\n\u001b[0m",
      "\u001b[1;31mNameError\u001b[0m: name 'navya' is not defined"
     ]
    }
   ],
   "source": [
    "     - navya"
   ]
  },
  {
   "cell_type": "markdown",
   "metadata": {},
   "source": [
    "    - navya"
   ]
  },
  {
   "cell_type": "markdown",
   "metadata": {},
   "source": [
    "- navya"
   ]
  },
  {
   "cell_type": "markdown",
   "metadata": {},
   "source": [
    "     - navya"
   ]
  },
  {
   "cell_type": "markdown",
   "metadata": {},
   "source": [
    "- navya\n",
    "    - navya\n",
    "        -navya"
   ]
  },
  {
   "cell_type": "markdown",
   "metadata": {},
   "source": [
    "-welcome to **data analysis** shop"
   ]
  },
  {
   "cell_type": "markdown",
   "metadata": {},
   "source": [
    "-welcome to ~dataanalysis~ shop"
   ]
  },
  {
   "cell_type": "markdown",
   "metadata": {},
   "source": [
    "<img src=data:image/png;base64,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"
   ]
  },
  {
   "cell_type": "markdown",
   "metadata": {},
   "source": [
    "img src=https://upload.wikimedia.org/wikipedia/commons/thumb/0/0a/Python.svg/1200px-Python.svg.png\n"
   ]
  },
  {
   "cell_type": "markdown",
   "metadata": {},
   "source": []
  },
  {
   "cell_type": "markdown",
   "metadata": {},
   "source": [
    "<img src=\"https://upload.wikimedia.org/wikipedia/commons/thumb/0/0a/Python.svg/1200px-Python.svg.png\">"
   ]
  },
  {
   "cell_type": "markdown",
   "metadata": {},
   "source": [
    "<img src=\"https://upload.wikimedia.org/wikipedia/commons/thumb/0/0a/Python.svg/1200px-Python.svg.png height=100px width=100px\">"
   ]
  },
  {
   "cell_type": "markdown",
   "metadata": {},
   "source": [
    "<img src=\"https://upload.wikimedia.org/wikipedia/commons/thumb/0/0a/Python.svg/1200px-Python.svg.png\"height=100px width=100px>"
   ]
  },
  {
   "cell_type": "markdown",
   "metadata": {},
   "source": [
    "<img src=\"https://upload.wikimedia.org/wikipedia/commons/thumb/0/0a/Python.svg/1200px-Python.svg.png\" height=100px width=100px>"
   ]
  },
  {
   "cell_type": "markdown",
   "metadata": {},
   "source": [
    ".[nec].(http://apssdc.in)"
   ]
  },
  {
   "cell_type": "markdown",
   "metadata": {},
   "source": [
    "[nec](http://apssdc.in)"
   ]
  },
  {
   "cell_type": "markdown",
   "metadata": {},
   "source": [
    "## files"
   ]
  },
  {
   "cell_type": "markdown",
   "metadata": {},
   "source": [
    "- open(filename,modes)\n",
    "- read()\n",
    "- write()\n",
    "- readlines()\n",
    "- close()\n",
    "- modes read-r,write-w,append-a"
   ]
  },
  {
   "cell_type": "code",
   "execution_count": 6,
   "metadata": {},
   "outputs": [],
   "source": [
    "f= open('data.txt','w')\n",
    "data =\"welcome to nec college students\"\n",
    "f.write(data)\n",
    "f.close()"
   ]
  },
  {
   "cell_type": "code",
   "execution_count": null,
   "metadata": {},
   "outputs": [],
   "source": []
  },
  {
   "cell_type": "code",
   "execution_count": 7,
   "metadata": {},
   "outputs": [
    {
     "name": "stdout",
     "output_type": "stream",
     "text": [
      "welcome to nec college students\n"
     ]
    }
   ],
   "source": [
    "f=open('data.txt','r')\n",
    "d=f.read()\n",
    "print(d)"
   ]
  },
  {
   "cell_type": "code",
   "execution_count": 8,
   "metadata": {},
   "outputs": [],
   "source": [
    "f=open('data.txt','w')\n",
    "s=\"apssdc\"\n",
    "f.write(s)\n",
    "f.close()"
   ]
  },
  {
   "cell_type": "code",
   "execution_count": 9,
   "metadata": {},
   "outputs": [],
   "source": [
    "f=open('data.txt','a')\n",
    "s=\"data analysis workshop\"\n",
    "f.write(s)\n",
    "f.close()"
   ]
  },
  {
   "cell_type": "code",
   "execution_count": 10,
   "metadata": {},
   "outputs": [
    {
     "name": "stdout",
     "output_type": "stream",
     "text": [
      "apssdcdata analysis workshop\n"
     ]
    }
   ],
   "source": [
    "f=open('data.txt','r')\n",
    "d=f.read()\n",
    "print(d)"
   ]
  },
  {
   "cell_type": "code",
   "execution_count": 12,
   "metadata": {},
   "outputs": [
    {
     "ename": "FileNotFoundError",
     "evalue": "[Errno 2] No such file or directory: 'mark.txt'",
     "output_type": "error",
     "traceback": [
      "\u001b[1;31m---------------------------------------------------------------------------\u001b[0m",
      "\u001b[1;31mFileNotFoundError\u001b[0m                         Traceback (most recent call last)",
      "\u001b[1;32m<ipython-input-12-a6db9f6f1198>\u001b[0m in \u001b[0;36m<module>\u001b[1;34m\u001b[0m\n\u001b[1;32m----> 1\u001b[1;33m \u001b[0mf\u001b[0m\u001b[1;33m=\u001b[0m\u001b[0mopen\u001b[0m\u001b[1;33m(\u001b[0m\u001b[1;34m'mark.txt'\u001b[0m\u001b[1;33m,\u001b[0m\u001b[1;34m'r'\u001b[0m\u001b[1;33m)\u001b[0m\u001b[1;33m\u001b[0m\u001b[1;33m\u001b[0m\u001b[0m\n\u001b[0m\u001b[0;32m      2\u001b[0m \u001b[0mf\u001b[0m\u001b[1;33m.\u001b[0m\u001b[0mread\u001b[0m\u001b[1;33m(\u001b[0m\u001b[1;33m)\u001b[0m\u001b[1;33m\u001b[0m\u001b[1;33m\u001b[0m\u001b[0m\n\u001b[0;32m      3\u001b[0m \u001b[0mprint\u001b[0m\u001b[1;33m(\u001b[0m\u001b[0md\u001b[0m\u001b[1;33m)\u001b[0m\u001b[1;33m\u001b[0m\u001b[1;33m\u001b[0m\u001b[0m\n",
      "\u001b[1;31mFileNotFoundError\u001b[0m: [Errno 2] No such file or directory: 'mark.txt'"
     ]
    }
   ],
   "source": [
    "f=open('mark.txt','r')\n",
    "f.read()\n",
    "print(d)"
   ]
  },
  {
   "cell_type": "code",
   "execution_count": null,
   "metadata": {},
   "outputs": [],
   "source": []
  },
  {
   "cell_type": "code",
   "execution_count": 13,
   "metadata": {},
   "outputs": [
    {
     "ename": "FileNotFoundError",
     "evalue": "[Errno 2] No such file or directory: 'mark.txt'",
     "output_type": "error",
     "traceback": [
      "\u001b[1;31m---------------------------------------------------------------------------\u001b[0m",
      "\u001b[1;31mFileNotFoundError\u001b[0m                         Traceback (most recent call last)",
      "\u001b[1;32m<ipython-input-13-a6db9f6f1198>\u001b[0m in \u001b[0;36m<module>\u001b[1;34m\u001b[0m\n\u001b[1;32m----> 1\u001b[1;33m \u001b[0mf\u001b[0m\u001b[1;33m=\u001b[0m\u001b[0mopen\u001b[0m\u001b[1;33m(\u001b[0m\u001b[1;34m'mark.txt'\u001b[0m\u001b[1;33m,\u001b[0m\u001b[1;34m'r'\u001b[0m\u001b[1;33m)\u001b[0m\u001b[1;33m\u001b[0m\u001b[1;33m\u001b[0m\u001b[0m\n\u001b[0m\u001b[0;32m      2\u001b[0m \u001b[0mf\u001b[0m\u001b[1;33m.\u001b[0m\u001b[0mread\u001b[0m\u001b[1;33m(\u001b[0m\u001b[1;33m)\u001b[0m\u001b[1;33m\u001b[0m\u001b[1;33m\u001b[0m\u001b[0m\n\u001b[0;32m      3\u001b[0m \u001b[0mprint\u001b[0m\u001b[1;33m(\u001b[0m\u001b[0md\u001b[0m\u001b[1;33m)\u001b[0m\u001b[1;33m\u001b[0m\u001b[1;33m\u001b[0m\u001b[0m\n",
      "\u001b[1;31mFileNotFoundError\u001b[0m: [Errno 2] No such file or directory: 'mark.txt'"
     ]
    }
   ],
   "source": [
    "f=open('mark.txt','r')\n",
    "f.read()\n",
    "print(d)"
   ]
  },
  {
   "cell_type": "code",
   "execution_count": 15,
   "metadata": {},
   "outputs": [
    {
     "ename": "FileNotFoundError",
     "evalue": "[Errno 2] No such file or directory: 'marks.txt'",
     "output_type": "error",
     "traceback": [
      "\u001b[1;31m---------------------------------------------------------------------------\u001b[0m",
      "\u001b[1;31mFileNotFoundError\u001b[0m                         Traceback (most recent call last)",
      "\u001b[1;32m<ipython-input-15-4b3f7d37b194>\u001b[0m in \u001b[0;36m<module>\u001b[1;34m\u001b[0m\n\u001b[1;32m----> 1\u001b[1;33m \u001b[0mf\u001b[0m\u001b[1;33m=\u001b[0m\u001b[0mopen\u001b[0m\u001b[1;33m(\u001b[0m\u001b[1;34m'marks.txt'\u001b[0m\u001b[1;33m,\u001b[0m\u001b[1;34m'r'\u001b[0m\u001b[1;33m)\u001b[0m\u001b[1;33m\u001b[0m\u001b[1;33m\u001b[0m\u001b[0m\n\u001b[0m\u001b[0;32m      2\u001b[0m \u001b[0md\u001b[0m\u001b[1;33m=\u001b[0m\u001b[0mf\u001b[0m\u001b[1;33m.\u001b[0m\u001b[0mread\u001b[0m\u001b[1;33m(\u001b[0m\u001b[1;33m)\u001b[0m\u001b[1;33m\u001b[0m\u001b[1;33m\u001b[0m\u001b[0m\n\u001b[0;32m      3\u001b[0m \u001b[0mprint\u001b[0m\u001b[1;33m(\u001b[0m\u001b[0md\u001b[0m\u001b[1;33m)\u001b[0m\u001b[1;33m\u001b[0m\u001b[1;33m\u001b[0m\u001b[0m\n",
      "\u001b[1;31mFileNotFoundError\u001b[0m: [Errno 2] No such file or directory: 'marks.txt'"
     ]
    }
   ],
   "source": [
    "f=open('mark.txt','r')\n",
    "f.read()\n",
    "print(d)"
   ]
  },
  {
   "cell_type": "code",
   "execution_count": 18,
   "metadata": {},
   "outputs": [
    {
     "ename": "FileNotFoundError",
     "evalue": "[Errno 2] No such file or directory: 'marks.txt'",
     "output_type": "error",
     "traceback": [
      "\u001b[1;31m---------------------------------------------------------------------------\u001b[0m",
      "\u001b[1;31mFileNotFoundError\u001b[0m                         Traceback (most recent call last)",
      "\u001b[1;32m<ipython-input-18-4b3f7d37b194>\u001b[0m in \u001b[0;36m<module>\u001b[1;34m\u001b[0m\n\u001b[1;32m----> 1\u001b[1;33m \u001b[0mf\u001b[0m\u001b[1;33m=\u001b[0m\u001b[0mopen\u001b[0m\u001b[1;33m(\u001b[0m\u001b[1;34m'marks.txt'\u001b[0m\u001b[1;33m,\u001b[0m\u001b[1;34m'r'\u001b[0m\u001b[1;33m)\u001b[0m\u001b[1;33m\u001b[0m\u001b[1;33m\u001b[0m\u001b[0m\n\u001b[0m\u001b[0;32m      2\u001b[0m \u001b[0md\u001b[0m\u001b[1;33m=\u001b[0m\u001b[0mf\u001b[0m\u001b[1;33m.\u001b[0m\u001b[0mread\u001b[0m\u001b[1;33m(\u001b[0m\u001b[1;33m)\u001b[0m\u001b[1;33m\u001b[0m\u001b[1;33m\u001b[0m\u001b[0m\n\u001b[0;32m      3\u001b[0m \u001b[0mprint\u001b[0m\u001b[1;33m(\u001b[0m\u001b[0md\u001b[0m\u001b[1;33m)\u001b[0m\u001b[1;33m\u001b[0m\u001b[1;33m\u001b[0m\u001b[0m\n",
      "\u001b[1;31mFileNotFoundError\u001b[0m: [Errno 2] No such file or directory: 'marks.txt'"
     ]
    }
   ],
   "source": [
    "f open('marks.txt','r')\n",
    "d=f.read()\n",
    "print(d)"
   ]
  },
  {
   "cell_type": "code",
   "execution_count": 20,
   "metadata": {},
   "outputs": [
    {
     "ename": "FileNotFoundError",
     "evalue": "[Errno 2] No such file or directory: 'marks.txt'",
     "output_type": "error",
     "traceback": [
      "\u001b[1;31m---------------------------------------------------------------------------\u001b[0m",
      "\u001b[1;31mFileNotFoundError\u001b[0m                         Traceback (most recent call last)",
      "\u001b[1;32m<ipython-input-20-06e02d1b39e6>\u001b[0m in \u001b[0;36m<module>\u001b[1;34m\u001b[0m\n\u001b[1;32m----> 1\u001b[1;33m \u001b[0mf\u001b[0m\u001b[1;33m=\u001b[0m \u001b[0mopen\u001b[0m\u001b[1;33m(\u001b[0m\u001b[1;34m'marks.txt'\u001b[0m\u001b[1;33m,\u001b[0m\u001b[1;34m'r'\u001b[0m\u001b[1;33m)\u001b[0m\u001b[1;33m\u001b[0m\u001b[1;33m\u001b[0m\u001b[0m\n\u001b[0m\u001b[0;32m      2\u001b[0m \u001b[0md\u001b[0m\u001b[1;33m=\u001b[0m \u001b[0mf\u001b[0m\u001b[1;33m.\u001b[0m\u001b[0mread\u001b[0m\u001b[1;33m(\u001b[0m\u001b[1;33m)\u001b[0m\u001b[1;33m\u001b[0m\u001b[1;33m\u001b[0m\u001b[0m\n\u001b[0;32m      3\u001b[0m \u001b[0mprint\u001b[0m\u001b[1;33m(\u001b[0m\u001b[0md\u001b[0m\u001b[1;33m)\u001b[0m\u001b[1;33m\u001b[0m\u001b[1;33m\u001b[0m\u001b[0m\n",
      "\u001b[1;31mFileNotFoundError\u001b[0m: [Errno 2] No such file or directory: 'marks.txt'"
     ]
    }
   ],
   "source": [
    "f= open('marks.txt','r')\n",
    "d= f.read()\n",
    "print(d)\n"
   ]
  },
  {
   "cell_type": "code",
   "execution_count": null,
   "metadata": {},
   "outputs": [],
   "source": []
  },
  {
   "cell_type": "code",
   "execution_count": 22,
   "metadata": {},
   "outputs": [
    {
     "name": "stdout",
     "output_type": "stream",
     "text": [
      "navya 30 59 70 \n",
      "sahithi 90 78 89\n"
     ]
    }
   ],
   "source": [
    "f=open('marks.txt','r')\n",
    "d=f.read()\n",
    "print(d)\n"
   ]
  },
  {
   "cell_type": "code",
   "execution_count": 24,
   "metadata": {},
   "outputs": [
    {
     "name": "stdout",
     "output_type": "stream",
     "text": [
      "navya 30 59 70 \n",
      "sahithi 90 78 89\n",
      "n\n"
     ]
    },
    {
     "ename": "IndexError",
     "evalue": "list index out of range",
     "output_type": "error",
     "traceback": [
      "\u001b[1;31m---------------------------------------------------------------------------\u001b[0m",
      "\u001b[1;31mIndexError\u001b[0m                                Traceback (most recent call last)",
      "\u001b[1;32m<ipython-input-24-d8d02e2945cf>\u001b[0m in \u001b[0;36m<module>\u001b[1;34m\u001b[0m\n\u001b[0;32m      5\u001b[0m     \u001b[0mwords\u001b[0m\u001b[1;33m=\u001b[0m\u001b[0mi\u001b[0m\u001b[1;33m.\u001b[0m\u001b[0msplit\u001b[0m\u001b[1;33m(\u001b[0m\u001b[1;33m)\u001b[0m\u001b[1;33m\u001b[0m\u001b[1;33m\u001b[0m\u001b[0m\n\u001b[0;32m      6\u001b[0m     \u001b[0mprint\u001b[0m\u001b[1;33m(\u001b[0m\u001b[0mwords\u001b[0m\u001b[1;33m[\u001b[0m\u001b[1;36m0\u001b[0m\u001b[1;33m]\u001b[0m\u001b[1;33m)\u001b[0m\u001b[1;33m\u001b[0m\u001b[1;33m\u001b[0m\u001b[0m\n\u001b[1;32m----> 7\u001b[1;33m     \u001b[0mtotal\u001b[0m\u001b[1;33m=\u001b[0m\u001b[0mint\u001b[0m\u001b[1;33m(\u001b[0m\u001b[0mwords\u001b[0m\u001b[1;33m[\u001b[0m\u001b[1;36m1\u001b[0m\u001b[1;33m]\u001b[0m\u001b[1;33m)\u001b[0m\u001b[1;33m+\u001b[0m\u001b[0mint\u001b[0m\u001b[1;33m(\u001b[0m\u001b[0mwords\u001b[0m\u001b[1;33m[\u001b[0m\u001b[1;36m2\u001b[0m\u001b[1;33m]\u001b[0m\u001b[1;33m)\u001b[0m\u001b[1;33m+\u001b[0m\u001b[0mint\u001b[0m\u001b[1;33m(\u001b[0m\u001b[0mwords\u001b[0m\u001b[1;33m[\u001b[0m\u001b[1;36m3\u001b[0m\u001b[1;33m]\u001b[0m\u001b[1;33m)\u001b[0m\u001b[1;33m\u001b[0m\u001b[1;33m\u001b[0m\u001b[0m\n\u001b[0m\u001b[0;32m      8\u001b[0m     \u001b[0mprint\u001b[0m\u001b[1;33m(\u001b[0m\u001b[0mname\u001b[0m\u001b[1;33m,\u001b[0m\u001b[1;34m\" \"\u001b[0m\u001b[1;33m,\u001b[0m\u001b[0mtotal\u001b[0m\u001b[1;33m)\u001b[0m\u001b[1;33m\u001b[0m\u001b[1;33m\u001b[0m\u001b[0m\n",
      "\u001b[1;31mIndexError\u001b[0m: list index out of range"
     ]
    }
   ],
   "source": [
    "f=open('marks.txt','r')\n",
    "d=f.read()\n",
    "print(d)\n",
    "for i in d:\n",
    "    words=i.split()\n",
    "    print(words[0])\n",
    "    total=int(words[1])+int(words[2])+int(words[3])\n",
    "    print(name,\" \",total)\n"
   ]
  },
  {
   "cell_type": "code",
   "execution_count": 31,
   "metadata": {},
   "outputs": [
    {
     "name": "stdout",
     "output_type": "stream",
     "text": [
      "['navya 30 59 70 \\n', 'sahithi 90 78 89']\n",
      "navya   159\n",
      "sahithi   257\n"
     ]
    }
   ],
   "source": [
    "f=open('marks.txt','r')\n",
    "f2=open('total.txt','w')\n",
    "d=f.readlines()\n",
    "print(d)\n",
    "for i in d:\n",
    "    words=i.split()\n",
    "    name=words[0]\n",
    "    total=int(words[1])+int(words[2])+int(words[3])\n",
    "    print(name,\" \",total)\n",
    "    f2.write(name+ \" \"+str(total)+\"\\n\")\n",
    "f2.close()\n",
    "    \n"
   ]
  },
  {
   "cell_type": "code",
   "execution_count": null,
   "metadata": {},
   "outputs": [],
   "source": []
  },
  {
   "cell_type": "code",
   "execution_count": null,
   "metadata": {},
   "outputs": [],
   "source": []
  },
  {
   "cell_type": "markdown",
   "metadata": {},
   "source": [
    "##  Regular expressions"
   ]
  },
  {
   "cell_type": "markdown",
   "metadata": {},
   "source": [
    "import.re\n"
   ]
  },
  {
   "cell_type": "code",
   "execution_count": 33,
   "metadata": {},
   "outputs": [
    {
     "ename": "NameError",
     "evalue": "name 're' is not defined",
     "output_type": "error",
     "traceback": [
      "\u001b[1;31m---------------------------------------------------------------------------\u001b[0m",
      "\u001b[1;31mNameError\u001b[0m                                 Traceback (most recent call last)",
      "\u001b[1;32m<ipython-input-33-ef14759e2dd2>\u001b[0m in \u001b[0;36m<module>\u001b[1;34m\u001b[0m\n\u001b[0;32m      1\u001b[0m \u001b[0ma\u001b[0m\u001b[1;33m=\u001b[0m\u001b[1;34m\"navya\"\u001b[0m\u001b[1;33m\u001b[0m\u001b[1;33m\u001b[0m\u001b[0m\n\u001b[1;32m----> 2\u001b[1;33m \u001b[0mre\u001b[0m\u001b[1;33m.\u001b[0m\u001b[0mmatch\u001b[0m\u001b[1;33m(\u001b[0m\u001b[1;34m'n'\u001b[0m\u001b[1;33m,\u001b[0m\u001b[0ma\u001b[0m\u001b[1;33m)\u001b[0m\u001b[1;33m\u001b[0m\u001b[1;33m\u001b[0m\u001b[0m\n\u001b[0m",
      "\u001b[1;31mNameError\u001b[0m: name 're' is not defined"
     ]
    }
   ],
   "source": [
    "a=\"navya\"\n",
    "re.match('n',a)"
   ]
  },
  {
   "cell_type": "code",
   "execution_count": 34,
   "metadata": {},
   "outputs": [
    {
     "ename": "NameError",
     "evalue": "name 're' is not defined",
     "output_type": "error",
     "traceback": [
      "\u001b[1;31m---------------------------------------------------------------------------\u001b[0m",
      "\u001b[1;31mNameError\u001b[0m                                 Traceback (most recent call last)",
      "\u001b[1;32m<ipython-input-34-ef14759e2dd2>\u001b[0m in \u001b[0;36m<module>\u001b[1;34m\u001b[0m\n\u001b[0;32m      1\u001b[0m \u001b[0ma\u001b[0m\u001b[1;33m=\u001b[0m\u001b[1;34m\"navya\"\u001b[0m\u001b[1;33m\u001b[0m\u001b[1;33m\u001b[0m\u001b[0m\n\u001b[1;32m----> 2\u001b[1;33m \u001b[0mre\u001b[0m\u001b[1;33m.\u001b[0m\u001b[0mmatch\u001b[0m\u001b[1;33m(\u001b[0m\u001b[1;34m'n'\u001b[0m\u001b[1;33m,\u001b[0m\u001b[0ma\u001b[0m\u001b[1;33m)\u001b[0m\u001b[1;33m\u001b[0m\u001b[1;33m\u001b[0m\u001b[0m\n\u001b[0m",
      "\u001b[1;31mNameError\u001b[0m: name 're' is not defined"
     ]
    }
   ],
   "source": [
    "a=\"navya\"\n",
    "re.match('n',a)"
   ]
  },
  {
   "cell_type": "markdown",
   "metadata": {},
   "source": []
  },
  {
   "cell_type": "code",
   "execution_count": 35,
   "metadata": {},
   "outputs": [
    {
     "ename": "NameError",
     "evalue": "name 're' is not defined",
     "output_type": "error",
     "traceback": [
      "\u001b[1;31m---------------------------------------------------------------------------\u001b[0m",
      "\u001b[1;31mNameError\u001b[0m                                 Traceback (most recent call last)",
      "\u001b[1;32m<ipython-input-35-01725e6e7512>\u001b[0m in \u001b[0;36m<module>\u001b[1;34m\u001b[0m\n\u001b[0;32m      1\u001b[0m \u001b[0ma\u001b[0m\u001b[1;33m=\u001b[0m\u001b[1;34m\"bravib\"\u001b[0m\u001b[1;33m\u001b[0m\u001b[1;33m\u001b[0m\u001b[0m\n\u001b[1;32m----> 2\u001b[1;33m \u001b[0mre\u001b[0m\u001b[1;33m.\u001b[0m\u001b[0mmatch\u001b[0m\u001b[1;33m(\u001b[0m\u001b[1;34m'b'\u001b[0m\u001b[1;33m,\u001b[0m\u001b[0ma\u001b[0m\u001b[1;33m)\u001b[0m\u001b[1;33m\u001b[0m\u001b[1;33m\u001b[0m\u001b[0m\n\u001b[0m",
      "\u001b[1;31mNameError\u001b[0m: name 're' is not defined"
     ]
    }
   ],
   "source": [
    "a=\"bravib\"\n",
    "re.match('b',a)"
   ]
  },
  {
   "cell_type": "code",
   "execution_count": 36,
   "metadata": {},
   "outputs": [],
   "source": [
    "import re"
   ]
  },
  {
   "cell_type": "code",
   "execution_count": 37,
   "metadata": {},
   "outputs": [
    {
     "data": {
      "text/plain": [
       "<re.Match object; span=(0, 1), match='n'>"
      ]
     },
     "execution_count": 37,
     "metadata": {},
     "output_type": "execute_result"
    }
   ],
   "source": [
    "a=\"navya\"\n",
    "re.match('n',a)"
   ]
  },
  {
   "cell_type": "code",
   "execution_count": 39,
   "metadata": {},
   "outputs": [
    {
     "data": {
      "text/plain": [
       "['n']"
      ]
     },
     "execution_count": 39,
     "metadata": {},
     "output_type": "execute_result"
    }
   ],
   "source": [
    "a=\"navya\"\n",
    "re.findall('n',a)"
   ]
  },
  {
   "cell_type": "code",
   "execution_count": 44,
   "metadata": {},
   "outputs": [
    {
     "data": {
      "text/plain": [
       "<re.Match object; span=(4, 5), match='i'>"
      ]
     },
     "execution_count": 44,
     "metadata": {},
     "output_type": "execute_result"
    }
   ],
   "source": [
    "a='ravii'\n",
    "re.search('i$',a)"
   ]
  },
  {
   "cell_type": "code",
   "execution_count": 52,
   "metadata": {},
   "outputs": [
    {
     "data": {
      "text/plain": [
       "<re.Match object; span=(0, 2), match='ra'>"
      ]
     },
     "execution_count": 52,
     "metadata": {},
     "output_type": "execute_result"
    }
   ],
   "source": [
    "a=\"ravi\"\n",
    "re.search('.a',a)"
   ]
  },
  {
   "cell_type": "code",
   "execution_count": null,
   "metadata": {},
   "outputs": [],
   "source": []
  },
  {
   "cell_type": "code",
   "execution_count": 55,
   "metadata": {},
   "outputs": [
    {
     "ename": "SyntaxError",
     "evalue": "invalid syntax (<ipython-input-55-219f13fda7f8>, line 3)",
     "output_type": "error",
     "traceback": [
      "\u001b[1;36m  File \u001b[1;32m\"<ipython-input-55-219f13fda7f8>\"\u001b[1;36m, line \u001b[1;32m3\u001b[0m\n\u001b[1;33m    if re.search('.{4}',i)\u001b[0m\n\u001b[1;37m                          ^\u001b[0m\n\u001b[1;31mSyntaxError\u001b[0m\u001b[1;31m:\u001b[0m invalid syntax\n"
     ]
    }
   ],
   "source": [
    "a=['navya','silva','kavya']\n",
    "for i in a:\n",
    "    if re.search('.{4}',i)\n",
    "      print(i)"
   ]
  },
  {
   "cell_type": "code",
   "execution_count": 57,
   "metadata": {},
   "outputs": [
    {
     "data": {
      "text/plain": [
       "<re.Match object; span=(4, 6), match='89'>"
      ]
     },
     "execution_count": 57,
     "metadata": {},
     "output_type": "execute_result"
    }
   ],
   "source": [
    "a='ravi89'\n",
    "re.search('\\d+',a)"
   ]
  },
  {
   "cell_type": "code",
   "execution_count": 72,
   "metadata": {},
   "outputs": [
    {
     "data": {
      "text/plain": [
       "[]"
      ]
     },
     "execution_count": 72,
     "metadata": {},
     "output_type": "execute_result"
    }
   ],
   "source": [
    "a='ravinavy'\n",
    "re.findall('\\s+',a)"
   ]
  },
  {
   "cell_type": "code",
   "execution_count": null,
   "metadata": {},
   "outputs": [],
   "source": []
  },
  {
   "cell_type": "code",
   "execution_count": 73,
   "metadata": {},
   "outputs": [
    {
     "data": {
      "text/plain": [
       "<re.Match object; span=(0, 1), match='r'>"
      ]
     },
     "execution_count": 73,
     "metadata": {},
     "output_type": "execute_result"
    }
   ],
   "source": [
    "a='ravi 89'\n",
    "re.search('\\S',a)"
   ]
  },
  {
   "cell_type": "code",
   "execution_count": 74,
   "metadata": {},
   "outputs": [
    {
     "ename": "NameError",
     "evalue": "name 'search' is not defined",
     "output_type": "error",
     "traceback": [
      "\u001b[1;31m---------------------------------------------------------------------------\u001b[0m",
      "\u001b[1;31mNameError\u001b[0m                                 Traceback (most recent call last)",
      "\u001b[1;32m<ipython-input-74-f23c9e6670a8>\u001b[0m in \u001b[0;36m<module>\u001b[1;34m\u001b[0m\n\u001b[0;32m      1\u001b[0m \u001b[0ma\u001b[0m\u001b[1;33m=\u001b[0m\u001b[1;33m[\u001b[0m\u001b[1;34m'ravi'\u001b[0m\u001b[1;33m,\u001b[0m\u001b[1;34m'60'\u001b[0m\u001b[1;33m,\u001b[0m\u001b[1;34m'70'\u001b[0m\u001b[1;33m,\u001b[0m\u001b[1;34m'anil'\u001b[0m\u001b[1;33m,\u001b[0m\u001b[1;34m'80'\u001b[0m\u001b[1;33m]\u001b[0m\u001b[1;33m\u001b[0m\u001b[1;33m\u001b[0m\u001b[0m\n\u001b[1;32m----> 2\u001b[1;33m \u001b[0mre\u001b[0m\u001b[1;33m,\u001b[0m\u001b[0msearch\u001b[0m\u001b[1;33m(\u001b[0m\u001b[1;34m'\\d'\u001b[0m\u001b[1;33m,\u001b[0m\u001b[0ma\u001b[0m\u001b[1;33m)\u001b[0m\u001b[1;33m\u001b[0m\u001b[1;33m\u001b[0m\u001b[0m\n\u001b[0m",
      "\u001b[1;31mNameError\u001b[0m: name 'search' is not defined"
     ]
    }
   ],
   "source": [
    "a=['ravi','60','70','anil','80']\n",
    "re,search('\\d',a)"
   ]
  },
  {
   "cell_type": "code",
   "execution_count": 77,
   "metadata": {},
   "outputs": [
    {
     "ename": "SyntaxError",
     "evalue": "invalid syntax (<ipython-input-77-0c44aa62480a>, line 4)",
     "output_type": "error",
     "traceback": [
      "\u001b[1;36m  File \u001b[1;32m\"<ipython-input-77-0c44aa62480a>\"\u001b[1;36m, line \u001b[1;32m4\u001b[0m\n\u001b[1;33m    if re.search('[0-9]+',i);\u001b[0m\n\u001b[1;37m                            ^\u001b[0m\n\u001b[1;31mSyntaxError\u001b[0m\u001b[1;31m:\u001b[0m invalid syntax\n"
     ]
    }
   ],
   "source": [
    "a=['ravi','60','70','anil','80']\n",
    "s=0;\n",
    "for i in a:\n",
    "    if re.search('[0-9]+',i)\n",
    "    s=int(i)+s\n",
    "print(s)   "
   ]
  },
  {
   "cell_type": "code",
   "execution_count": 80,
   "metadata": {},
   "outputs": [
    {
     "ename": "IndentationError",
     "evalue": "expected an indented block (<ipython-input-80-31c505a198a5>, line 5)",
     "output_type": "error",
     "traceback": [
      "\u001b[1;36m  File \u001b[1;32m\"<ipython-input-80-31c505a198a5>\"\u001b[1;36m, line \u001b[1;32m5\u001b[0m\n\u001b[1;33m    s=int(i)+s\u001b[0m\n\u001b[1;37m              ^\u001b[0m\n\u001b[1;31mIndentationError\u001b[0m\u001b[1;31m:\u001b[0m expected an indented block\n"
     ]
    }
   ],
   "source": [
    "a=['ravi','60','70','anil','80']\n",
    "s=0;\n",
    "for i in a:\n",
    "    if re.search('[0-9]+',i):\n",
    "s=int(i)+s\n",
    "print(s)   "
   ]
  },
  {
   "cell_type": "code",
   "execution_count": 82,
   "metadata": {},
   "outputs": [
    {
     "ename": "TypeError",
     "evalue": "write() takes exactly one argument (0 given)",
     "output_type": "error",
     "traceback": [
      "\u001b[1;31m---------------------------------------------------------------------------\u001b[0m",
      "\u001b[1;31mTypeError\u001b[0m                                 Traceback (most recent call last)",
      "\u001b[1;32m<ipython-input-82-bfdb3a5d005d>\u001b[0m in \u001b[0;36m<module>\u001b[1;34m\u001b[0m\n\u001b[0;32m      1\u001b[0m \u001b[0mf\u001b[0m\u001b[1;33m=\u001b[0m\u001b[0mopen\u001b[0m\u001b[1;33m(\u001b[0m\u001b[1;34m'text.txt'\u001b[0m\u001b[1;33m,\u001b[0m\u001b[1;34m'w'\u001b[0m\u001b[1;33m)\u001b[0m\u001b[1;33m\u001b[0m\u001b[1;33m\u001b[0m\u001b[0m\n\u001b[1;32m----> 2\u001b[1;33m \u001b[0md\u001b[0m\u001b[1;33m=\u001b[0m\u001b[0mf\u001b[0m\u001b[1;33m.\u001b[0m\u001b[0mwrite\u001b[0m\u001b[1;33m(\u001b[0m\u001b[1;33m)\u001b[0m\u001b[1;33m\u001b[0m\u001b[1;33m\u001b[0m\u001b[0m\n\u001b[0m\u001b[0;32m      3\u001b[0m \u001b[0mprint\u001b[0m\u001b[1;33m(\u001b[0m\u001b[0md\u001b[0m\u001b[1;33m)\u001b[0m\u001b[1;33m\u001b[0m\u001b[1;33m\u001b[0m\u001b[0m\n",
      "\u001b[1;31mTypeError\u001b[0m: write() takes exactly one argument (0 given)"
     ]
    }
   ],
   "source": [
    "\n",
    "\n"
   ]
  },
  {
   "cell_type": "code",
   "execution_count": null,
   "metadata": {},
   "outputs": [],
   "source": [
    "f=fopen('text.txt','r')"
   ]
  },
  {
   "cell_type": "code",
   "execution_count": null,
   "metadata": {},
   "outputs": [],
   "source": []
  },
  {
   "cell_type": "code",
   "execution_count": null,
   "metadata": {},
   "outputs": [],
   "source": []
  }
 ],
 "metadata": {
  "kernelspec": {
   "display_name": "Python 3",
   "language": "python",
   "name": "python3"
  },
  "language_info": {
   "codemirror_mode": {
    "name": "ipython",
    "version": 3
   },
   "file_extension": ".py",
   "mimetype": "text/x-python",
   "name": "python",
   "nbconvert_exporter": "python",
   "pygments_lexer": "ipython3",
   "version": "3.8.5"
  }
 },
 "nbformat": 4,
 "nbformat_minor": 4
}
